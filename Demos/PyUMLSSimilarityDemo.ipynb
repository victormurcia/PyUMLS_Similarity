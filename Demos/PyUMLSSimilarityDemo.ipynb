{
 "cells": [
  {
   "cell_type": "code",
   "execution_count": 2,
   "metadata": {},
   "outputs": [],
   "source": [
    "from PyUMLS_Similarity import PyUMLS_Similarity"
   ]
  },
  {
   "cell_type": "code",
   "execution_count": 3,
   "metadata": {},
   "outputs": [
    {
     "name": "stdout",
     "output_type": "stream",
     "text": [
      "[('C0018563', 'C0037303'), ('C0035078', 'C0035078'), ('C0018787', 'C0027061'), ('C0026769', 'C0033975')]\n",
      "C0018563 C0037303\n"
     ]
    },
    {
     "name": "stderr",
     "output_type": "stream",
     "text": [
      "Processing tasks:   0%|          | 0/3 [00:00<?, ?task/s]"
     ]
    },
    {
     "name": "stdout",
     "output_type": "stream",
     "text": [
      "\n",
      "The shortest path (length: 9) between hand (C0018563) and skull (C0037303):\n",
      "  => C0018563 (Hand, NOS) C1140618 (Upper extremity, NOS) C0015385 (Limb structure) C0005898 (Body region, NOS) C0002807 (Anatomy (MeSH Category)) C0026860 (Musculoskeletal system, NOS) C0816871 (Skeletons) C0005931 (Bone and Bone) C0037303 (Bone structure of cranium) \n",
      "\n",
      "The shortest path (length: 9) between hand (C0018563) and skull (C0037303):\n",
      "  => C0018563 (Hand, NOS) C1140618 (Upper extremity, NOS) C0015385 (Limb structure) C0005898 (Body region, NOS) C0002807 (Anatomy (MeSH Category)) C0040300 (Tissues (Body)) C0009780 (Connective tissue, NOS) C0005931 (Bone and Bone) C0037303 (Bone structure of cranium) \n",
      "\n",
      "Matched text: <re.Match object; span=(352, 699), match='The shortest path (length: 9) between hand (C0018>\n",
      "C0035078 C0035078\n"
     ]
    },
    {
     "name": "stderr",
     "output_type": "stream",
     "text": [
      "Processing tasks:  67%|██████▋   | 2/3 [00:47<00:19, 19.88s/task]"
     ]
    },
    {
     "name": "stdout",
     "output_type": "stream",
     "text": [
      "Task similarity generated an exception: 'PyUMLS_Similarity' object has no attribute 'verbose'\n",
      "\n",
      "There is not a path between C0035078 and C0035078\n",
      "given the current view of the UMLS.\n",
      "\n",
      "\n",
      "C0018787 C0027061\n",
      "\n",
      "The shortest path (length: 2) between hearts (C0018787) and myocardium (C0027061):\n",
      "  => C0018787 (Heart, NOS) C0027061 (Myocardium, NOS) \n",
      "\n",
      "Matched text: <re.Match object; span=(2, 141), match='The shortest path (length: 2) between hearts (C00>\n",
      "C0026769 C0033975\n"
     ]
    },
    {
     "name": "stderr",
     "output_type": "stream",
     "text": [
      "Processing tasks: 100%|██████████| 3/3 [02:57<00:00, 59.04s/task]"
     ]
    },
    {
     "name": "stdout",
     "output_type": "stream",
     "text": [
      "\n",
      "The shortest path (length: 10) between sclerosis, multiple (C0026769) and disorders, psychotic (C0033975):\n",
      "  => C0026769 (Multiple sclerosis, NOS) C0751873 (Autoimmune Demyelinating Diseases, CNS) C0011303 (disease demyelinating) C0027765 (Disorder of nervous system NOS) C0012674 (Diseases (MeSH Category)) C1256741 (Topical Descriptor) C1256749 (Psychiatry and Psychology (MeSH Category)) C0004936 (Mental disorder, NOS) C0525046 (Schizophrenia Spectrum and Other Psychotic Disorders) C0033975 (Psychotic disorder, NOS) \n",
      "\n",
      "The shortest path (length: 10) between sclerosis, multiple (C0026769) and disorders, psychotic (C0033975):\n",
      "  => C0026769 (Multiple sclerosis, NOS) C0751873 (Autoimmune Demyelinating Diseases, CNS) C0751871 (Autoimmune Nervous System Diseases) C0027765 (Disorder of nervous system NOS) C0012674 (Diseases (MeSH Category)) C1256741 (Topical Descriptor) C1256749 (Psychiatry and Psychology (MeSH Category)) C0004936 (Mental disorder, NOS) C0525046 (Schizophrenia Spectrum and Other Psychotic Disorders) C0033975 (Psychotic disorder, NOS) \n",
      "\n",
      "Matched text: <re.Match object; span=(529, 1066), match='The shortest path (length: 10) between sclerosis,>\n",
      "[{'Term_1': 'hand', 'CUI_1': 'C0018563', 'Term_2': 'skull', 'CUI_2': 'C0037303', 'Length': '9', 'Path': 'C0018563 (Hand, NOS) => C1140618 (Upper extremity, NOS) => C0015385 (Limb structure) => C0005898 (Body region, NOS) => C0002807 (Anatomy (MeSH Category) => C0040300 (Tissues (Body) => C0009780 (Connective tissue, NOS) => C0005931 (Bone and Bone) => C0037303 (Bone structure of cranium)'}, {'Term_1': 'hearts', 'CUI_1': 'C0018787', 'Term_2': 'myocardium', 'CUI_2': 'C0027061', 'Length': '2', 'Path': 'C0018787 (Heart, NOS) => C0027061 (Myocardium, NOS)'}, {'Term_1': 'sclerosis, multiple', 'CUI_1': 'C0026769', 'Term_2': 'disorders, psychotic', 'CUI_2': 'C0033975', 'Length': '10', 'Path': 'C0026769 (Multiple sclerosis, NOS) => C0751873 (Autoimmune Demyelinating Diseases, CNS) => C0751871 (Autoimmune Nervous System Diseases) => C0027765 (Disorder of nervous system NOS) => C0012674 (Diseases (MeSH Category) => C1256741 (Topical Descriptor) => C1256749 (Psychiatry and Psychology (MeSH Category) => C0004936 (Mental disorder, NOS) => C0525046 (Schizophrenia Spectrum and Other Psychotic Disorders) => C0033975 (Psychotic disorder, NOS)'}]\n"
     ]
    },
    {
     "name": "stderr",
     "output_type": "stream",
     "text": [
      "\n"
     ]
    },
    {
     "data": {
      "text/html": [
       "<div>\n",
       "<style scoped>\n",
       "    .dataframe tbody tr th:only-of-type {\n",
       "        vertical-align: middle;\n",
       "    }\n",
       "\n",
       "    .dataframe tbody tr th {\n",
       "        vertical-align: top;\n",
       "    }\n",
       "\n",
       "    .dataframe thead th {\n",
       "        text-align: right;\n",
       "    }\n",
       "</style>\n",
       "<table border=\"1\" class=\"dataframe\">\n",
       "  <thead>\n",
       "    <tr style=\"text-align: right;\">\n",
       "      <th></th>\n",
       "      <th>Term_1</th>\n",
       "      <th>CUI_1</th>\n",
       "      <th>Term_2</th>\n",
       "      <th>CUI_2</th>\n",
       "      <th>Length</th>\n",
       "      <th>Path</th>\n",
       "      <th>LCS_Term</th>\n",
       "      <th>LCS_CUI</th>\n",
       "      <th>MIN_Depth</th>\n",
       "      <th>MAX_Depth</th>\n",
       "    </tr>\n",
       "  </thead>\n",
       "  <tbody>\n",
       "    <tr>\n",
       "      <th>0</th>\n",
       "      <td>hand</td>\n",
       "      <td>C0018563</td>\n",
       "      <td>skull</td>\n",
       "      <td>C0037303</td>\n",
       "      <td>9</td>\n",
       "      <td>C0018563 (Hand, NOS) =&gt; C1140618 (Upper extrem...</td>\n",
       "      <td>Anatomy (MeSH Category)</td>\n",
       "      <td>C0002807</td>\n",
       "      <td>5</td>\n",
       "      <td>5</td>\n",
       "    </tr>\n",
       "    <tr>\n",
       "      <th>1</th>\n",
       "      <td>hearts</td>\n",
       "      <td>C0018787</td>\n",
       "      <td>myocardium</td>\n",
       "      <td>C0027061</td>\n",
       "      <td>2</td>\n",
       "      <td>C0018787 (Heart, NOS) =&gt; C0027061 (Myocardium,...</td>\n",
       "      <td>Heart, NOS</td>\n",
       "      <td>C0018787</td>\n",
       "      <td>7</td>\n",
       "      <td>7</td>\n",
       "    </tr>\n",
       "    <tr>\n",
       "      <th>2</th>\n",
       "      <td>sclerosis, multiple</td>\n",
       "      <td>C0026769</td>\n",
       "      <td>disorders, psychotic</td>\n",
       "      <td>C0033975</td>\n",
       "      <td>10</td>\n",
       "      <td>C0026769 (Multiple sclerosis, NOS) =&gt; C0751873...</td>\n",
       "      <td>Topical Descriptor</td>\n",
       "      <td>C1256741</td>\n",
       "      <td>4</td>\n",
       "      <td>4</td>\n",
       "    </tr>\n",
       "    <tr>\n",
       "      <th>3</th>\n",
       "      <td>NaN</td>\n",
       "      <td>C0035078</td>\n",
       "      <td>NaN</td>\n",
       "      <td>C0035078</td>\n",
       "      <td>NaN</td>\n",
       "      <td>NaN</td>\n",
       "      <td>kidney; failure</td>\n",
       "      <td>C0035078</td>\n",
       "      <td>1</td>\n",
       "      <td>1</td>\n",
       "    </tr>\n",
       "  </tbody>\n",
       "</table>\n",
       "</div>"
      ],
      "text/plain": [
       "                Term_1     CUI_1                Term_2     CUI_2 Length  \\\n",
       "0                 hand  C0018563                 skull  C0037303      9   \n",
       "1               hearts  C0018787            myocardium  C0027061      2   \n",
       "2  sclerosis, multiple  C0026769  disorders, psychotic  C0033975     10   \n",
       "3                  NaN  C0035078                   NaN  C0035078    NaN   \n",
       "\n",
       "                                                Path                 LCS_Term  \\\n",
       "0  C0018563 (Hand, NOS) => C1140618 (Upper extrem...  Anatomy (MeSH Category)   \n",
       "1  C0018787 (Heart, NOS) => C0027061 (Myocardium,...               Heart, NOS   \n",
       "2  C0026769 (Multiple sclerosis, NOS) => C0751873...       Topical Descriptor   \n",
       "3                                                NaN          kidney; failure   \n",
       "\n",
       "    LCS_CUI MIN_Depth MAX_Depth  \n",
       "0  C0002807         5         5  \n",
       "1  C0018787         7         7  \n",
       "2  C1256741         4         4  \n",
       "3  C0035078         1         1  "
      ]
     },
     "execution_count": 3,
     "metadata": {},
     "output_type": "execute_result"
    }
   ],
   "source": [
    "from PyUMLS_Similarity import PyUMLS_Similarity\n",
    "if __name__ == \"__main__\":\n",
    "\n",
    "    # define MySQL information that stores UMLS data in your computer\n",
    "    mysql_info = {}\n",
    "    mysql_info[\"username\"] = \"******\"\n",
    "    mysql_info[\"password\"] = \"******\"\n",
    "    mysql_info[\"hostname\"] = \"localhost\"\n",
    "    mysql_info[\"socket\"] = \"MYSQL\"\n",
    "    mysql_info[\"database\"] = \"umls2\"\n",
    "\n",
    "    # Initialize the PyUMLS_Similarity class\n",
    "    umls_sim = PyUMLS_Similarity(\n",
    "        mysql_info, \n",
    "        perl_bin_path=r\"C:\\Strawberry\\perl\\bin\\perl.exe\", \n",
    "        work_directory=r\"C:\\Strawberry\\perl\\site\\bin\"\n",
    "        )\n",
    "\n",
    "    # list of CUI pairs\n",
    "    cui_pairs = [\n",
    "        ('C0018563', 'C0037303'),\n",
    "        ('C0035078', 'C0035078'),\n",
    "        ('C0018787', 'C0027061'),\n",
    "        ('C0026769', 'C0033975')\n",
    "        ]\n",
    "\n",
    "    measures = ['path', 'lch', 'zhong', 'path']\n",
    "\n",
    "    tasks = [\n",
    "    {'function': 'similarity', 'arguments': (cui_pairs, measures)},\n",
    "    {'function': 'shortest_path', 'arguments': cui_pairs},\n",
    "    {'function': 'lcs', 'arguments': (cui_pairs)}\n",
    "    ]\n",
    "\n",
    "    # Directly pass two CUIs into the function below:\n",
    "    sim_df = umls_sim.run_concurrently(tasks)\n",
    "sim_df"
   ]
  },
  {
   "cell_type": "code",
   "execution_count": 4,
   "metadata": {},
   "outputs": [
    {
     "name": "stdout",
     "output_type": "stream",
     "text": [
      "[('hand', 'skull'), ('Renal failure', 'Kidney failure'), ('Heart', 'Myocardium'), ('Metastasis', 'Adenocarcinoma')]\n"
     ]
    },
    {
     "name": "stderr",
     "output_type": "stream",
     "text": [
      "Processing tasks:   0%|          | 0/3 [00:00<?, ?task/s]"
     ]
    },
    {
     "name": "stdout",
     "output_type": "stream",
     "text": [
      "hand skull\n",
      "\n",
      "The shortest path (length: 9) between hand (C0018563) and skull (C0037303):\n",
      "  => C0018563 (Hand, NOS) C1140618 (Upper extremity, NOS) C0015385 (Limb structure) C0005898 (Body region, NOS) C0002807 (Anatomy (MeSH Category)) C0026860 (Musculoskeletal system, NOS) C0816871 (Skeletons) C0005931 (Bone and Bone) C0037303 (Bone structure of cranium) \n",
      "\n",
      "The shortest path (length: 9) between hand (C0018563) and skull (C0037303):\n",
      "  => C0018563 (Hand, NOS) C1140618 (Upper extremity, NOS) C0015385 (Limb structure) C0005898 (Body region, NOS) C0002807 (Anatomy (MeSH Category)) C0040300 (Tissues (Body)) C0009780 (Connective tissue, NOS) C0005931 (Bone and Bone) C0037303 (Bone structure of cranium) \n",
      "\n",
      "Matched text: <re.Match object; span=(352, 699), match='The shortest path (length: 9) between hand (C0018>\n",
      "Renal failure Kidney failure\n"
     ]
    },
    {
     "name": "stderr",
     "output_type": "stream",
     "text": [
      "Processing tasks:  67%|██████▋   | 2/3 [00:46<00:19, 19.27s/task]"
     ]
    },
    {
     "name": "stdout",
     "output_type": "stream",
     "text": [
      "Task similarity generated an exception: 'PyUMLS_Similarity' object has no attribute 'verbose'\n",
      "\n",
      "There is not a path between Renal failure and Kidney failure\n",
      "given the current view of the UMLS.\n",
      "\n",
      "\n",
      "Matched text: <re.Match object; span=(2, 49), match='There is not a path between Renal failure and K'>\n",
      "Renal failure K\n",
      "Heart Myocardium\n",
      "\n",
      "The shortest path (length: 2) between Heart (C0018787) and Myocardium (C0027061):\n",
      "  => C0018787 (Heart, NOS) C0027061 (Myocardium, NOS) \n",
      "\n",
      "Matched text: <re.Match object; span=(2, 140), match='The shortest path (length: 2) between Heart (C001>\n",
      "Metastasis Adenocarcinoma\n"
     ]
    },
    {
     "name": "stderr",
     "output_type": "stream",
     "text": [
      "Processing tasks: 100%|██████████| 3/3 [02:57<00:00, 59.09s/task]"
     ]
    },
    {
     "name": "stdout",
     "output_type": "stream",
     "text": [
      "\n",
      "The shortest path (length: 7) between Metastasis (C0027627) and Adenocarcinoma (C0001418):\n",
      "  => C0027627 (Metastases, Neoplasm) C0027671 (Processes, Neoplastic) C0027651 (Neoplasm, NOS) C0027652 (Neoplasms by Histologic Type) C0027660 (Glandular and Epithelial Neoplasms) C0007097 (Carcinoma, NOS) C0001418 (Adenocarcinoma, NOS) \n",
      "\n",
      "Matched text: <re.Match object; span=(2, 333), match='The shortest path (length: 7) between Metastasis >\n",
      "[{'Term_1': 'hand', 'CUI_1': 'C0018563', 'Term_2': 'skull', 'CUI_2': 'C0037303', 'Length': '9', 'Path': 'C0018563 (Hand, NOS) => C1140618 (Upper extremity, NOS) => C0015385 (Limb structure) => C0005898 (Body region, NOS) => C0002807 (Anatomy (MeSH Category) => C0040300 (Tissues (Body) => C0009780 (Connective tissue, NOS) => C0005931 (Bone and Bone) => C0037303 (Bone structure of cranium)'}, {'Term_1': 'Renal failure', 'CUI_1': None, 'Term_2': 'Kidney failure', 'CUI_2': None, 'Length': 'No path found', 'Path': 'No path found'}, {'Term_1': 'Heart', 'CUI_1': 'C0018787', 'Term_2': 'Myocardium', 'CUI_2': 'C0027061', 'Length': '2', 'Path': 'C0018787 (Heart, NOS) => C0027061 (Myocardium, NOS)'}, {'Term_1': 'Metastasis', 'CUI_1': 'C0027627', 'Term_2': 'Adenocarcinoma', 'CUI_2': 'C0001418', 'Length': '7', 'Path': 'C0027627 (Metastases, Neoplasm) => C0027671 (Processes, Neoplastic) => C0027651 (Neoplasm, NOS) => C0027652 (Neoplasms by Histologic Type) => C0027660 (Glandular and Epithelial Neoplasms) => C0007097 (Carcinoma, NOS) => C0001418 (Adenocarcinoma, NOS)'}]\n"
     ]
    },
    {
     "name": "stderr",
     "output_type": "stream",
     "text": [
      "\n"
     ]
    },
    {
     "data": {
      "text/html": [
       "<div>\n",
       "<style scoped>\n",
       "    .dataframe tbody tr th:only-of-type {\n",
       "        vertical-align: middle;\n",
       "    }\n",
       "\n",
       "    .dataframe tbody tr th {\n",
       "        vertical-align: top;\n",
       "    }\n",
       "\n",
       "    .dataframe thead th {\n",
       "        text-align: right;\n",
       "    }\n",
       "</style>\n",
       "<table border=\"1\" class=\"dataframe\">\n",
       "  <thead>\n",
       "    <tr style=\"text-align: right;\">\n",
       "      <th></th>\n",
       "      <th>Term_1</th>\n",
       "      <th>CUI_1</th>\n",
       "      <th>Term_2</th>\n",
       "      <th>CUI_2</th>\n",
       "      <th>Length</th>\n",
       "      <th>Path</th>\n",
       "      <th>LCS_Term</th>\n",
       "      <th>LCS_CUI</th>\n",
       "      <th>MIN_Depth</th>\n",
       "      <th>MAX_Depth</th>\n",
       "    </tr>\n",
       "  </thead>\n",
       "  <tbody>\n",
       "    <tr>\n",
       "      <th>0</th>\n",
       "      <td>Heart</td>\n",
       "      <td>C0018787</td>\n",
       "      <td>Myocardium</td>\n",
       "      <td>C0027061</td>\n",
       "      <td>2</td>\n",
       "      <td>C0018787 (Heart, NOS) =&gt; C0027061 (Myocardium,...</td>\n",
       "      <td>Heart, NOS</td>\n",
       "      <td>C0018787</td>\n",
       "      <td>7</td>\n",
       "      <td>7</td>\n",
       "    </tr>\n",
       "    <tr>\n",
       "      <th>1</th>\n",
       "      <td>Metastasis</td>\n",
       "      <td>C0027627</td>\n",
       "      <td>Adenocarcinoma</td>\n",
       "      <td>C0001418</td>\n",
       "      <td>7</td>\n",
       "      <td>C0027627 (Metastases, Neoplasm) =&gt; C0027671 (P...</td>\n",
       "      <td>Neoplasm, NOS</td>\n",
       "      <td>C0027651</td>\n",
       "      <td>6</td>\n",
       "      <td>6</td>\n",
       "    </tr>\n",
       "    <tr>\n",
       "      <th>2</th>\n",
       "      <td>Renal failure</td>\n",
       "      <td>None</td>\n",
       "      <td>Kidney failure</td>\n",
       "      <td>None</td>\n",
       "      <td>No path found</td>\n",
       "      <td>No path found</td>\n",
       "      <td>Renal failure</td>\n",
       "      <td>C0035078</td>\n",
       "      <td>1</td>\n",
       "      <td>1</td>\n",
       "    </tr>\n",
       "    <tr>\n",
       "      <th>3</th>\n",
       "      <td>hand</td>\n",
       "      <td>C0018563</td>\n",
       "      <td>skull</td>\n",
       "      <td>C0037303</td>\n",
       "      <td>9</td>\n",
       "      <td>C0018563 (Hand, NOS) =&gt; C1140618 (Upper extrem...</td>\n",
       "      <td>Anatomy (MeSH Category)</td>\n",
       "      <td>C0002807</td>\n",
       "      <td>5</td>\n",
       "      <td>5</td>\n",
       "    </tr>\n",
       "  </tbody>\n",
       "</table>\n",
       "</div>"
      ],
      "text/plain": [
       "          Term_1     CUI_1          Term_2     CUI_2         Length  \\\n",
       "0          Heart  C0018787      Myocardium  C0027061              2   \n",
       "1     Metastasis  C0027627  Adenocarcinoma  C0001418              7   \n",
       "2  Renal failure      None  Kidney failure      None  No path found   \n",
       "3           hand  C0018563           skull  C0037303              9   \n",
       "\n",
       "                                                Path                 LCS_Term  \\\n",
       "0  C0018787 (Heart, NOS) => C0027061 (Myocardium,...               Heart, NOS   \n",
       "1  C0027627 (Metastases, Neoplasm) => C0027671 (P...            Neoplasm, NOS   \n",
       "2                                      No path found            Renal failure   \n",
       "3  C0018563 (Hand, NOS) => C1140618 (Upper extrem...  Anatomy (MeSH Category)   \n",
       "\n",
       "    LCS_CUI MIN_Depth MAX_Depth  \n",
       "0  C0018787         7         7  \n",
       "1  C0027651         6         6  \n",
       "2  C0035078         1         1  \n",
       "3  C0002807         5         5  "
      ]
     },
     "execution_count": 4,
     "metadata": {},
     "output_type": "execute_result"
    }
   ],
   "source": [
    "from PyUMLS_Similarity import PyUMLS_Similarity\n",
    "if __name__ == \"__main__\":\n",
    "\n",
    "    # define MySQL information that stores UMLS data in your computer\n",
    "    mysql_info = {}\n",
    "    mysql_info[\"username\"] = \"root\"\n",
    "    mysql_info[\"password\"] = \"171290\"\n",
    "    mysql_info[\"hostname\"] = \"localhost\"\n",
    "    mysql_info[\"socket\"] = \"MYSQL\"\n",
    "    mysql_info[\"database\"] = \"umls2\"\n",
    "\n",
    "    # Initialize the PyUMLS_Similarity class\n",
    "    umls_sim = PyUMLS_Similarity(\n",
    "        mysql_info, \n",
    "        perl_bin_path=r\"C:\\Strawberry\\perl\\bin\\perl.exe\", \n",
    "        work_directory=r\"C:\\Strawberry\\perl\\site\\bin\"\n",
    "        )\n",
    "\n",
    "    # list of CUI pairs\n",
    "    cui_pairs = [\n",
    "        ('hand', 'skull'),\n",
    "        ('Renal failure', 'Kidney failure'),\n",
    "        ('Heart', 'Myocardium'),\n",
    "        ('Metastasis', 'Adenocarcinoma'),\n",
    "        ]\n",
    "\n",
    "    measures = ['path', 'lch', 'zhong', 'path']\n",
    "\n",
    "    tasks = [\n",
    "    {'function': 'similarity', 'arguments': (cui_pairs, measures)},\n",
    "    {'function': 'shortest_path', 'arguments': cui_pairs},\n",
    "    {'function': 'lcs', 'arguments': (cui_pairs)}\n",
    "    ]\n",
    "\n",
    "    # Directly pass two CUIs into the function below:\n",
    "    sim_df = umls_sim.run_concurrently(tasks)\n",
    "sim_df"
   ]
  },
  {
   "cell_type": "code",
   "execution_count": null,
   "metadata": {},
   "outputs": [],
   "source": []
  }
 ],
 "metadata": {
  "kernelspec": {
   "display_name": "UMLS_Similarity",
   "language": "python",
   "name": "python3"
  },
  "language_info": {
   "codemirror_mode": {
    "name": "ipython",
    "version": 3
   },
   "file_extension": ".py",
   "mimetype": "text/x-python",
   "name": "python",
   "nbconvert_exporter": "python",
   "pygments_lexer": "ipython3",
   "version": "3.10.11"
  }
 },
 "nbformat": 4,
 "nbformat_minor": 2
}
